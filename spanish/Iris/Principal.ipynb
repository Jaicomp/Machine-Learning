{
 "cells": [
  {
   "cell_type": "markdown",
   "metadata": {
    "deletable": true,
    "editable": true
   },
   "source": [
    "<h1>Analizando el conjunto de datos de la flor Iris</h1>\n",
    "\n",
    "Tenemos un conjunto de datos de la flor Iris la cuál tiene diversas especies (Setoda, Versicolor, etc).\n",
    "\n",
    "En el conjunto de datos tendremos 4 características:\n",
    "* Longitud del sépalo\n",
    "* Anchura del sépalo\n",
    "* Longitud del pétalo\n",
    "* Anchura del pétalo\n",
    "\n",
    "Haremos primeramente un perceptron para entrenar y clasificar las diferentes especies de flores de Iris."
   ]
  },
  {
   "cell_type": "markdown",
   "metadata": {
    "deletable": true,
    "editable": true
   },
   "source": [
    "Repasaremos primero como funciona una neurona. \n",
    "![alt text](http://webspace.ship.edu/cgboer/neuronesp.gif)\n",
    "\n",
    "La neurona recibe un señales eléctricas que llegan a las dendrites. Estas señales son entonces integradas en el cuerpo de la célula, y si las señales acumuladas exceden un cierto umbral, una señal de salida será generada, la cuál será transmitida por el axón. \n",
    "\n",
    "Hace unos pocos años, Frank Rosenblatt publicó el primer concepto de regla de aprendizaje de perceptron basado en el modelo de neurona MCP. Con esta regla perceptron, Rosenblatt propusó un algoritmo que automáticamente aprendería los coeficientes de peso que es multiplicado por la entrada para saber si la neurona envia la señal, es decir, si sobrepasa el umbral.\n",
    "\n",
    "Nos basaremos un algoritmo de <strong>aprendizaje supervisado</strong>, es decir, a partir de muchas muestras entrenaremos a nuestro algoritmo de tal manera que sea capaz de predecir que especie de flor de Iris le estoy proporcionando sin saber explicitamente a que especie pertenece.\n",
    "\n",
    "\n",
    "\n",
    "De momento nos centraremos en que solo hay dos especies de flor Iris por lo tanto es un problema de clasificación binaria dónde tendremos dos clases, \"1 - clase positiva\" y \"-1 - clase negativa). Definiremos una función de activación φ(z), que combinara el valor de la entrada con la de los pesos, y nos dará una de las dos clases ya mencionadas.\n",
    "\n",
    "Si la salida de nuestra función de activación, es mayor que nuestro umbral θ (que habremos definido previamente), entonces la clase será 1, de lo contrario será -1. En el perceptron la función de activación es un único paso.\n",
    "\n",
    "Ahora implementaremos la clase perceptron, la cuál tendrá dos métodos principales que son el método fit y el método predict.\n"
   ]
  },
  {
   "cell_type": "code",
   "execution_count": 1,
   "metadata": {
    "collapsed": true,
    "deletable": true,
    "editable": true
   },
   "outputs": [],
   "source": [
    "import numpy as np\n",
    "class Perceptron(object):\n",
    "    \"\"\"Perceptron classifier.\n",
    "    Parámetros\n",
    "    ---------\n",
    "    eta: float\n",
    "        Learning rate (entre 0.0 y 1.0)\n",
    "    n_iter: int\n",
    "        Pasos sobre el training dataset\n",
    "    \n",
    "    Atributos\n",
    "    ---------\n",
    "    w_: 1d-array\n",
    "        Pesos después de fitting\n",
    "    errors_: list\n",
    "        Número de clasificaciones erroneas en cada epoch.\n",
    "    \"\"\"\n",
    "    def __init__(self, eta=0.01, n_iter=10):\n",
    "        self.eta = eta\n",
    "        self.n_iter = n_iter\n",
    "        \n",
    "    def fit(self, X, y):\n",
    "        \"\"\"Fir training data.\n",
    "        \n",
    "        Parámetros\n",
    "        ----------\n",
    "        X: {array-like}, shape = [n_samples, n_features]\n",
    "        Training vectors, dónde n_samples es el número de muestras \n",
    "        y n_features es el número de características\n",
    "        \n",
    "        y: array-like, shape = [n_samples]\n",
    "            Valores objetivo\n",
    "            \n",
    "        Returns\n",
    "        -------\n",
    "        self: object\n",
    "        \"\"\"\n",
    "        self.w_ = np.zeros(1 + X.shape[1])\n",
    "        self.errors_ = []\n",
    "        \n",
    "        for _ in range(self.n_iter):\n",
    "            errors = 0\n",
    "            for xi, target in zip(X, y):\n",
    "                update = self.eta * (target - self.predict(xi))\n",
    "                self.w_[1:] += update * xi\n",
    "                self.w_[0] += update\n",
    "                errors += int(update != 0.0)\n",
    "            self.errors_.append(errors)\n",
    "        return self\n",
    "\n",
    "    def net_input(self, X):\n",
    "        \"\"\"Calculate net input\"\"\"\n",
    "        return np.dot(X, self.w_[1:]) + self.w_[0]\n",
    "    \n",
    "    def predict(self, X):\n",
    "        \"\"\"Return class label después unit step\"\"\"\n",
    "        return np.where(self.net_input(X) >= 0.0, 1, -1)"
   ]
  },
  {
   "cell_type": "markdown",
   "metadata": {
    "deletable": true,
    "editable": true
   },
   "source": [
    "Ahora podemos inicializar nuestro percetron utilizando un rango de aprendizaje que le propocionaremos que es la variable eta y el número de epochs (pasos sobre el conjunto de entrenamiento) el cuál es la variable n_iter. Mediante el método fit, inicializaremos los pesos en el vector self.w_. \n",
    "\n",
    "Para probar nuestra implementación de perceptron, cargarémos dos clases de fores, Setoda y Versicolor del conjunto de datos de Iris. Aunque la regla perceptron no está restringida a dos dimensiones, únicamente consideramos las dos características de longitud de sépalo y longitud de pétalo para propositos de visualización. Aunque solo utilizamos dos clases de flores, el perceptron puede ser extendido a clasificación de multiples clases.\n",
    "\n",
    "Ahora obtendremos las flores:\n"
   ]
  },
  {
   "cell_type": "code",
   "execution_count": 5,
   "metadata": {
    "collapsed": false,
    "deletable": true,
    "editable": true
   },
   "outputs": [],
   "source": [
    "import pandas as pd\n",
    "df = pd.read_csv('https://archive.ics.uci.edu/ml/machine-learning-databases/iris/iris.data', header=None)\n"
   ]
  },
  {
   "cell_type": "code",
   "execution_count": 6,
   "metadata": {
    "collapsed": false,
    "deletable": true,
    "editable": true
   },
   "outputs": [
    {
     "data": {
      "text/html": [
       "<div>\n",
       "<table border=\"1\" class=\"dataframe\">\n",
       "  <thead>\n",
       "    <tr style=\"text-align: right;\">\n",
       "      <th></th>\n",
       "      <th>0</th>\n",
       "      <th>1</th>\n",
       "      <th>2</th>\n",
       "      <th>3</th>\n",
       "      <th>4</th>\n",
       "    </tr>\n",
       "  </thead>\n",
       "  <tbody>\n",
       "    <tr>\n",
       "      <th>145</th>\n",
       "      <td>6.7</td>\n",
       "      <td>3.0</td>\n",
       "      <td>5.2</td>\n",
       "      <td>2.3</td>\n",
       "      <td>Iris-virginica</td>\n",
       "    </tr>\n",
       "    <tr>\n",
       "      <th>146</th>\n",
       "      <td>6.3</td>\n",
       "      <td>2.5</td>\n",
       "      <td>5.0</td>\n",
       "      <td>1.9</td>\n",
       "      <td>Iris-virginica</td>\n",
       "    </tr>\n",
       "    <tr>\n",
       "      <th>147</th>\n",
       "      <td>6.5</td>\n",
       "      <td>3.0</td>\n",
       "      <td>5.2</td>\n",
       "      <td>2.0</td>\n",
       "      <td>Iris-virginica</td>\n",
       "    </tr>\n",
       "    <tr>\n",
       "      <th>148</th>\n",
       "      <td>6.2</td>\n",
       "      <td>3.4</td>\n",
       "      <td>5.4</td>\n",
       "      <td>2.3</td>\n",
       "      <td>Iris-virginica</td>\n",
       "    </tr>\n",
       "    <tr>\n",
       "      <th>149</th>\n",
       "      <td>5.9</td>\n",
       "      <td>3.0</td>\n",
       "      <td>5.1</td>\n",
       "      <td>1.8</td>\n",
       "      <td>Iris-virginica</td>\n",
       "    </tr>\n",
       "  </tbody>\n",
       "</table>\n",
       "</div>"
      ],
      "text/plain": [
       "       0    1    2    3               4\n",
       "145  6.7  3.0  5.2  2.3  Iris-virginica\n",
       "146  6.3  2.5  5.0  1.9  Iris-virginica\n",
       "147  6.5  3.0  5.2  2.0  Iris-virginica\n",
       "148  6.2  3.4  5.4  2.3  Iris-virginica\n",
       "149  5.9  3.0  5.1  1.8  Iris-virginica"
      ]
     },
     "execution_count": 6,
     "metadata": {},
     "output_type": "execute_result"
    }
   ],
   "source": [
    "df.tail()"
   ]
  },
  {
   "cell_type": "markdown",
   "metadata": {},
   "source": [
    "Extraemos las primeras 100 muestras de flores, 50 Iris-Setosa y 50 Iris-Versicolor respectivamente."
   ]
  },
  {
   "cell_type": "code",
   "execution_count": 4,
   "metadata": {
    "collapsed": false,
    "deletable": true,
    "editable": true
   },
   "outputs": [
    {
     "name": "stdout",
     "output_type": "stream",
     "text": [
      "0         Iris-setosa\n",
      "1         Iris-setosa\n",
      "2         Iris-setosa\n",
      "3         Iris-setosa\n",
      "4         Iris-setosa\n",
      "5         Iris-setosa\n",
      "6         Iris-setosa\n",
      "7         Iris-setosa\n",
      "8         Iris-setosa\n",
      "9         Iris-setosa\n",
      "10        Iris-setosa\n",
      "11        Iris-setosa\n",
      "12        Iris-setosa\n",
      "13        Iris-setosa\n",
      "14        Iris-setosa\n",
      "15        Iris-setosa\n",
      "16        Iris-setosa\n",
      "17        Iris-setosa\n",
      "18        Iris-setosa\n",
      "19        Iris-setosa\n",
      "20        Iris-setosa\n",
      "21        Iris-setosa\n",
      "22        Iris-setosa\n",
      "23        Iris-setosa\n",
      "24        Iris-setosa\n",
      "25        Iris-setosa\n",
      "26        Iris-setosa\n",
      "27        Iris-setosa\n",
      "28        Iris-setosa\n",
      "29        Iris-setosa\n",
      "           ...       \n",
      "70    Iris-versicolor\n",
      "71    Iris-versicolor\n",
      "72    Iris-versicolor\n",
      "73    Iris-versicolor\n",
      "74    Iris-versicolor\n",
      "75    Iris-versicolor\n",
      "76    Iris-versicolor\n",
      "77    Iris-versicolor\n",
      "78    Iris-versicolor\n",
      "79    Iris-versicolor\n",
      "80    Iris-versicolor\n",
      "81    Iris-versicolor\n",
      "82    Iris-versicolor\n",
      "83    Iris-versicolor\n",
      "84    Iris-versicolor\n",
      "85    Iris-versicolor\n",
      "86    Iris-versicolor\n",
      "87    Iris-versicolor\n",
      "88    Iris-versicolor\n",
      "89    Iris-versicolor\n",
      "90    Iris-versicolor\n",
      "91    Iris-versicolor\n",
      "92    Iris-versicolor\n",
      "93    Iris-versicolor\n",
      "94    Iris-versicolor\n",
      "95    Iris-versicolor\n",
      "96    Iris-versicolor\n",
      "97    Iris-versicolor\n",
      "98    Iris-versicolor\n",
      "99    Iris-versicolor\n",
      "Name: 4, dtype: object\n"
     ]
    }
   ],
   "source": [
    "#Queremos los primeros 100 y solo la columna 4\n",
    "y = df.iloc[0:100, 4]\n",
    "print (y)"
   ]
  },
  {
   "cell_type": "markdown",
   "metadata": {},
   "source": [
    "Convertiremos las primeras 100 muestras a 1(Iris-Versicolor) y -1 (Iris-Setosa). "
   ]
  },
  {
   "cell_type": "code",
   "execution_count": 10,
   "metadata": {
    "collapsed": false
   },
   "outputs": [
    {
     "name": "stdout",
     "output_type": "stream",
     "text": [
      "[-1 -1 -1 -1 -1 -1 -1 -1 -1 -1 -1 -1 -1 -1 -1 -1 -1 -1 -1 -1 -1 -1 -1 -1 -1\n",
      " -1 -1 -1 -1 -1 -1 -1 -1 -1 -1 -1 -1 -1 -1 -1 -1 -1 -1 -1 -1 -1 -1 -1 -1 -1\n",
      "  1  1  1  1  1  1  1  1  1  1  1  1  1  1  1  1  1  1  1  1  1  1  1  1  1\n",
      "  1  1  1  1  1  1  1  1  1  1  1  1  1  1  1  1  1  1  1  1  1  1  1  1  1]\n"
     ]
    }
   ],
   "source": [
    "import matplotlib.pyplot as plt\n",
    "import numpy as np\n",
    "\n",
    "y = df.iloc[0:100, 4].values\n",
    "y = np.where(y == 'Iris-setosa', -1, 1)\n",
    "print (y)"
   ]
  },
  {
   "cell_type": "markdown",
   "metadata": {},
   "source": [
    "Ahora entrenamos nuestro perceptron y mostramos los resultados:"
   ]
  },
  {
   "cell_type": "code",
   "execution_count": 13,
   "metadata": {
    "collapsed": false
   },
   "outputs": [
    {
     "data": {
      "image/png": "[encoded data removed]",
      "text/plain": [
       "<matplotlib.figure.Figure at 0x7f1d7ab28208>"
      ]
     },
     "metadata": {},
     "output_type": "display_data"
    }
   ],
   "source": [
    "import matplotlib.pyplot as plt\n",
    "import numpy as np\n",
    "\n",
    "y = df.iloc[0:100, 4].values\n",
    "y = np.where(y == 'Iris-setosa', -1, 1)\n",
    "\n",
    "X = df.iloc[0:100, [0, 2]].values\n",
    "plt.scatter(X[:50, 0], X[:50, 1], color='red', marker='o', label='setosa')\n",
    "plt.scatter(X[50:100, 0], X[50:100, 1], color='blue', marker='x', label='versicolor')\n",
    "plt.xlabel('petal length')\n",
    "plt.ylabel('sepal length')\n",
    "plt.legend(loc='upper left')\n",
    "plt.show()"
   ]
  },
  {
   "cell_type": "markdown",
   "metadata": {},
   "source": [
    "Ahora miraremos el número de pasos hasta comprobar si el algoritmo converge y encuentra un límite de decisión que separa las dos clases:"
   ]
  },
  {
   "cell_type": "code",
   "execution_count": 15,
   "metadata": {
    "collapsed": false
   },
   "outputs": [
    {
     "data": {
      "image/png": "[encoded data removed]",
      "text/plain": [
       "<matplotlib.figure.Figure at 0x7f1d78a87a20>"
      ]
     },
     "metadata": {},
     "output_type": "display_data"
    }
   ],
   "source": [
    "ppn = Perceptron(eta=0.1, n_iter=10)\n",
    "ppn.fit(X, y)\n",
    "plt.plot(range(1, len(ppn.errors_)+1), ppn.errors_, marker='o')\n",
    "plt.xlabel('Epochs')\n",
    "plt.ylabel('Number of misclassifications')\n",
    "plt.show()"
   ]
  },
  {
   "cell_type": "code",
   "execution_count": 16,
   "metadata": {
    "collapsed": true
   },
   "outputs": [],
   "source": []
  }
 ],
 "metadata": {
  "kernelspec": {
   "display_name": "Python 3",
   "language": "python",
   "name": "python3"
  },
  "language_info": {
   "codemirror_mode": {
    "name": "ipython",
    "version": 3
   },
   "file_extension": ".py",
   "mimetype": "text/x-python",
   "name": "python",
   "nbconvert_exporter": "python",
   "pygments_lexer": "ipython3",
   "version": "3.5.2"
  }
 },
 "nbformat": 4,
 "nbformat_minor": 2
}
