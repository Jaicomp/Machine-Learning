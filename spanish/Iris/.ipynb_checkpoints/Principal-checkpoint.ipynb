{
 "cells": [
  {
   "cell_type": "markdown",
   "metadata": {},
   "source": [
    "<h1>Analizando el conjunto de datos de la flor Iris</h1>\n",
    "\n",
    "Tenemos un conjunto de datos de la flor Iris la cuál tiene diversas especies (Setoda, Versicolor, etc).\n",
    "\n",
    "En el conjunto de datos tendremos 4 características:\n",
    "* Longitud del sépalo\n",
    "* Anchura del sépalo\n",
    "* Longitud del pétalo\n",
    "* Anchura del pétalo\n",
    "\n",
    "Haremos primeramente un perceptron para entrenar y clasificar las diferentes especies de flores de Iris."
   ]
  },
  {
   "cell_type": "markdown",
   "metadata": {},
   "source": [
    "Repasaremos primero como funciona una neurona. \n",
    "![alt text](http://webspace.ship.edu/cgboer/neuronesp.gif)\n",
    "\n",
    "La neurona recibe un señales eléctricas que llegan a las dendrites. Estas señales son entonces integradas en el cuerpo de la célula, y si las señales acumuladas exceden un cierto umbral, una señal de salida será generada, la cuál será transmitida por el axón. \n",
    "\n",
    "Hace unos pocos años, Frank Rosenblatt publicó el primer concepto de regla de aprendizaje de perceptron basado en el modelo de neurona MCP. Con esta regla perceptron, Rosenblatt propusó un algoritmo que automáticamente aprendería los coeficientes de peso que es multiplicado por la entrada para saber si la neurona envia la señal, es decir, si sobrepasa el umbral.\n",
    "\n",
    "Nos basaremos un algoritmo de <strong>aprendizaje supervisado</strong>, es decir, a partir de muchas muestras entrenaremos a nuestro algoritmo de tal manera que sea capaz de predecir que especie de flor de Iris le estoy proporcionando sin saber explicitamente a que especie pertenece.\n",
    "\n",
    "\n",
    "\n",
    "De momento nos centraremos en que solo hay dos especies de flor Iris por lo tanto es un problema de clasificación binaria dónde tendremos dos clases, \"1 - clase positiva\" y \"-1 - clase negativa). Definiremos una función de activación φ(z), que combinara el valor de la entrada con la de los pesos, y nos dará una de las dos clases ya mencionadas.\n",
    "\n",
    "Si la salida de nuestra función de activación, es mayor que nuestro umbral θ (que habremos definido previamente), entonces la clase será 1, de lo contrario será -1. En el perceptron la función de activación es un único paso.\n",
    "\n"
   ]
  },
  {
   "cell_type": "code",
   "execution_count": null,
   "metadata": {
    "collapsed": true
   },
   "outputs": [],
   "source": []
  }
 ],
 "metadata": {
  "kernelspec": {
   "display_name": "Python 3",
   "language": "python",
   "name": "python3"
  },
  "language_info": {
   "codemirror_mode": {
    "name": "ipython",
    "version": 3
   },
   "file_extension": ".py",
   "mimetype": "text/x-python",
   "name": "python",
   "nbconvert_exporter": "python",
   "pygments_lexer": "ipython3",
   "version": "3.5.2"
  }
 },
 "nbformat": 4,
 "nbformat_minor": 2
}
